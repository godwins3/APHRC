{
 "cells": [
  {
   "cell_type": "code",
   "execution_count": 1,
   "metadata": {},
   "outputs": [],
   "source": [
    "import pandas as pd\n",
    "import numpy as np \n",
    "import matplotlib.pyplot as plt"
   ]
  },
  {
   "cell_type": "code",
   "execution_count": 2,
   "metadata": {},
   "outputs": [],
   "source": [
    "data = pd.read_csv(\"C:/Users/Matt/Desktop/hackathons/APHRC/data/synthetic_facility_v2.csv\")"
   ]
  },
  {
   "cell_type": "code",
   "execution_count": 3,
   "metadata": {},
   "outputs": [
    {
     "data": {
      "text/html": [
       "<div>\n",
       "<style scoped>\n",
       "    .dataframe tbody tr th:only-of-type {\n",
       "        vertical-align: middle;\n",
       "    }\n",
       "\n",
       "    .dataframe tbody tr th {\n",
       "        vertical-align: top;\n",
       "    }\n",
       "\n",
       "    .dataframe thead th {\n",
       "        text-align: right;\n",
       "    }\n",
       "</style>\n",
       "<table border=\"1\" class=\"dataframe\">\n",
       "  <thead>\n",
       "    <tr style=\"text-align: right;\">\n",
       "      <th></th>\n",
       "      <th>recnr</th>\n",
       "      <th>facilityname</th>\n",
       "      <th>firstname</th>\n",
       "      <th>lastname</th>\n",
       "      <th>petname</th>\n",
       "      <th>dob</th>\n",
       "      <th>sex</th>\n",
       "      <th>nationalid</th>\n",
       "      <th>patientid</th>\n",
       "      <th>visitdate</th>\n",
       "    </tr>\n",
       "  </thead>\n",
       "  <tbody>\n",
       "    <tr>\n",
       "      <th>0</th>\n",
       "      <td>1</td>\n",
       "      <td>HC-V</td>\n",
       "      <td>Zaina</td>\n",
       "      <td>Hanifa</td>\n",
       "      <td>Kasozi</td>\n",
       "      <td>09-09-1930 00:00</td>\n",
       "      <td>2</td>\n",
       "      <td>NaN</td>\n",
       "      <td>20001</td>\n",
       "      <td>07-10-2019</td>\n",
       "    </tr>\n",
       "    <tr>\n",
       "      <th>1</th>\n",
       "      <td>2</td>\n",
       "      <td>HC-II</td>\n",
       "      <td>Godfrey</td>\n",
       "      <td>Maganda</td>\n",
       "      <td>Kirabo</td>\n",
       "      <td>02-07-1934 00:00</td>\n",
       "      <td>1</td>\n",
       "      <td>NaN</td>\n",
       "      <td>20002</td>\n",
       "      <td>10-09-2018</td>\n",
       "    </tr>\n",
       "    <tr>\n",
       "      <th>2</th>\n",
       "      <td>3</td>\n",
       "      <td>HC-III</td>\n",
       "      <td>Kasim</td>\n",
       "      <td>Ngobi</td>\n",
       "      <td>Malaika</td>\n",
       "      <td>11-02-1983 00:00</td>\n",
       "      <td>1</td>\n",
       "      <td>NaN</td>\n",
       "      <td>20003</td>\n",
       "      <td>14-12-2022</td>\n",
       "    </tr>\n",
       "    <tr>\n",
       "      <th>3</th>\n",
       "      <td>4</td>\n",
       "      <td>HC-IV</td>\n",
       "      <td>Esther</td>\n",
       "      <td>NaN</td>\n",
       "      <td>Bwino</td>\n",
       "      <td>30-07-1968 00:00</td>\n",
       "      <td>2</td>\n",
       "      <td>NaN</td>\n",
       "      <td>20004</td>\n",
       "      <td>09-06-2023</td>\n",
       "    </tr>\n",
       "    <tr>\n",
       "      <th>4</th>\n",
       "      <td>5</td>\n",
       "      <td>HC-V</td>\n",
       "      <td>Sumaya</td>\n",
       "      <td>Swabula</td>\n",
       "      <td>Kato</td>\n",
       "      <td>30-11-1930 00:00</td>\n",
       "      <td>2</td>\n",
       "      <td>NaN</td>\n",
       "      <td>20005</td>\n",
       "      <td>07-02-2019</td>\n",
       "    </tr>\n",
       "  </tbody>\n",
       "</table>\n",
       "</div>"
      ],
      "text/plain": [
       "   recnr facilityname firstname lastname  petname               dob  sex  \\\n",
       "0      1         HC-V     Zaina   Hanifa   Kasozi  09-09-1930 00:00    2   \n",
       "1      2        HC-II   Godfrey  Maganda   Kirabo  02-07-1934 00:00    1   \n",
       "2      3       HC-III     Kasim    Ngobi  Malaika  11-02-1983 00:00    1   \n",
       "3      4        HC-IV    Esther      NaN    Bwino  30-07-1968 00:00    2   \n",
       "4      5         HC-V    Sumaya  Swabula     Kato  30-11-1930 00:00    2   \n",
       "\n",
       "   nationalid  patientid   visitdate  \n",
       "0         NaN      20001  07-10-2019  \n",
       "1         NaN      20002  10-09-2018  \n",
       "2         NaN      20003  14-12-2022  \n",
       "3         NaN      20004  09-06-2023  \n",
       "4         NaN      20005  07-02-2019  "
      ]
     },
     "execution_count": 3,
     "metadata": {},
     "output_type": "execute_result"
    }
   ],
   "source": [
    "data.head()"
   ]
  },
  {
   "cell_type": "code",
   "execution_count": 4,
   "metadata": {},
   "outputs": [
    {
     "data": {
      "text/plain": [
       "(4115, 10)"
      ]
     },
     "execution_count": 4,
     "metadata": {},
     "output_type": "execute_result"
    }
   ],
   "source": [
    "data.shape"
   ]
  },
  {
   "cell_type": "code",
   "execution_count": 5,
   "metadata": {},
   "outputs": [
    {
     "data": {
      "text/plain": [
       "recnr              0\n",
       "facilityname       0\n",
       "firstname          2\n",
       "lastname          84\n",
       "petname          284\n",
       "dob                0\n",
       "sex                0\n",
       "nationalid      4115\n",
       "patientid          0\n",
       "visitdate          0\n",
       "dtype: int64"
      ]
     },
     "execution_count": 5,
     "metadata": {},
     "output_type": "execute_result"
    }
   ],
   "source": [
    "data.isnull().sum()"
   ]
  },
  {
   "cell_type": "code",
   "execution_count": 6,
   "metadata": {},
   "outputs": [],
   "source": [
    "df = pd.DataFrame(data)"
   ]
  },
  {
   "cell_type": "code",
   "execution_count": 7,
   "metadata": {},
   "outputs": [
    {
     "data": {
      "text/html": [
       "<div>\n",
       "<style scoped>\n",
       "    .dataframe tbody tr th:only-of-type {\n",
       "        vertical-align: middle;\n",
       "    }\n",
       "\n",
       "    .dataframe tbody tr th {\n",
       "        vertical-align: top;\n",
       "    }\n",
       "\n",
       "    .dataframe thead th {\n",
       "        text-align: right;\n",
       "    }\n",
       "</style>\n",
       "<table border=\"1\" class=\"dataframe\">\n",
       "  <thead>\n",
       "    <tr style=\"text-align: right;\">\n",
       "      <th></th>\n",
       "      <th>recnr</th>\n",
       "      <th>facilityname</th>\n",
       "      <th>firstname</th>\n",
       "      <th>lastname</th>\n",
       "      <th>petname</th>\n",
       "      <th>dob</th>\n",
       "      <th>sex</th>\n",
       "      <th>patientid</th>\n",
       "      <th>visitdate</th>\n",
       "    </tr>\n",
       "  </thead>\n",
       "  <tbody>\n",
       "    <tr>\n",
       "      <th>0</th>\n",
       "      <td>1</td>\n",
       "      <td>HC-V</td>\n",
       "      <td>Zaina</td>\n",
       "      <td>Hanifa</td>\n",
       "      <td>Kasozi</td>\n",
       "      <td>09-09-1930 00:00</td>\n",
       "      <td>2</td>\n",
       "      <td>20001</td>\n",
       "      <td>07-10-2019</td>\n",
       "    </tr>\n",
       "    <tr>\n",
       "      <th>1</th>\n",
       "      <td>2</td>\n",
       "      <td>HC-II</td>\n",
       "      <td>Godfrey</td>\n",
       "      <td>Maganda</td>\n",
       "      <td>Kirabo</td>\n",
       "      <td>02-07-1934 00:00</td>\n",
       "      <td>1</td>\n",
       "      <td>20002</td>\n",
       "      <td>10-09-2018</td>\n",
       "    </tr>\n",
       "    <tr>\n",
       "      <th>2</th>\n",
       "      <td>3</td>\n",
       "      <td>HC-III</td>\n",
       "      <td>Kasim</td>\n",
       "      <td>Ngobi</td>\n",
       "      <td>Malaika</td>\n",
       "      <td>11-02-1983 00:00</td>\n",
       "      <td>1</td>\n",
       "      <td>20003</td>\n",
       "      <td>14-12-2022</td>\n",
       "    </tr>\n",
       "    <tr>\n",
       "      <th>3</th>\n",
       "      <td>4</td>\n",
       "      <td>HC-IV</td>\n",
       "      <td>Esther</td>\n",
       "      <td>NaN</td>\n",
       "      <td>Bwino</td>\n",
       "      <td>30-07-1968 00:00</td>\n",
       "      <td>2</td>\n",
       "      <td>20004</td>\n",
       "      <td>09-06-2023</td>\n",
       "    </tr>\n",
       "    <tr>\n",
       "      <th>4</th>\n",
       "      <td>5</td>\n",
       "      <td>HC-V</td>\n",
       "      <td>Sumaya</td>\n",
       "      <td>Swabula</td>\n",
       "      <td>Kato</td>\n",
       "      <td>30-11-1930 00:00</td>\n",
       "      <td>2</td>\n",
       "      <td>20005</td>\n",
       "      <td>07-02-2019</td>\n",
       "    </tr>\n",
       "  </tbody>\n",
       "</table>\n",
       "</div>"
      ],
      "text/plain": [
       "   recnr facilityname firstname lastname  petname               dob  sex  \\\n",
       "0      1         HC-V     Zaina   Hanifa   Kasozi  09-09-1930 00:00    2   \n",
       "1      2        HC-II   Godfrey  Maganda   Kirabo  02-07-1934 00:00    1   \n",
       "2      3       HC-III     Kasim    Ngobi  Malaika  11-02-1983 00:00    1   \n",
       "3      4        HC-IV    Esther      NaN    Bwino  30-07-1968 00:00    2   \n",
       "4      5         HC-V    Sumaya  Swabula     Kato  30-11-1930 00:00    2   \n",
       "\n",
       "   patientid   visitdate  \n",
       "0      20001  07-10-2019  \n",
       "1      20002  10-09-2018  \n",
       "2      20003  14-12-2022  \n",
       "3      20004  09-06-2023  \n",
       "4      20005  07-02-2019  "
      ]
     },
     "execution_count": 7,
     "metadata": {},
     "output_type": "execute_result"
    }
   ],
   "source": [
    "df = df.drop(['nationalid'], axis=1)\n",
    "df.head()"
   ]
  },
  {
   "cell_type": "code",
   "execution_count": 9,
   "metadata": {},
   "outputs": [
    {
     "name": "stdout",
     "output_type": "stream",
     "text": [
      "<class 'pandas.core.frame.DataFrame'>\n",
      "RangeIndex: 4115 entries, 0 to 4114\n",
      "Data columns (total 9 columns):\n",
      " #   Column        Non-Null Count  Dtype \n",
      "---  ------        --------------  ----- \n",
      " 0   recnr         4115 non-null   int64 \n",
      " 1   facilityname  4115 non-null   object\n",
      " 2   firstname     4113 non-null   object\n",
      " 3   lastname      4031 non-null   object\n",
      " 4   petname       3831 non-null   object\n",
      " 5   dob           4115 non-null   object\n",
      " 6   sex           4115 non-null   int64 \n",
      " 7   patientid     4115 non-null   int64 \n",
      " 8   visitdate     4115 non-null   object\n",
      "dtypes: int64(3), object(6)\n",
      "memory usage: 289.5+ KB\n"
     ]
    }
   ],
   "source": [
    "df.info()"
   ]
  },
  {
   "cell_type": "code",
   "execution_count": null,
   "metadata": {},
   "outputs": [],
   "source": []
  }
 ],
 "metadata": {
  "kernelspec": {
   "display_name": "base",
   "language": "python",
   "name": "python3"
  },
  "language_info": {
   "codemirror_mode": {
    "name": "ipython",
    "version": 3
   },
   "file_extension": ".py",
   "mimetype": "text/x-python",
   "name": "python",
   "nbconvert_exporter": "python",
   "pygments_lexer": "ipython3",
   "version": "3.11.5"
  }
 },
 "nbformat": 4,
 "nbformat_minor": 2
}
