{
 "cells": [
  {
   "cell_type": "code",
   "execution_count": 29,
   "metadata": {},
   "outputs": [],
   "source": [
    "import pandas as pd\n",
    "import numpy as np \n",
    "import matplotlib.pyplot as plt"
   ]
  },
  {
   "cell_type": "code",
   "execution_count": 30,
   "metadata": {},
   "outputs": [],
   "source": [
    "data = pd.read_csv(\"C:/Users/Matt/Desktop/hackathons/APHRC/data/synthetic_hdss_v2.csv\")"
   ]
  },
  {
   "cell_type": "code",
   "execution_count": 31,
   "metadata": {},
   "outputs": [
    {
     "data": {
      "text/html": [
       "<div>\n",
       "<style scoped>\n",
       "    .dataframe tbody tr th:only-of-type {\n",
       "        vertical-align: middle;\n",
       "    }\n",
       "\n",
       "    .dataframe tbody tr th {\n",
       "        vertical-align: top;\n",
       "    }\n",
       "\n",
       "    .dataframe thead th {\n",
       "        text-align: right;\n",
       "    }\n",
       "</style>\n",
       "<table border=\"1\" class=\"dataframe\">\n",
       "  <thead>\n",
       "    <tr style=\"text-align: right;\">\n",
       "      <th></th>\n",
       "      <th>recnr</th>\n",
       "      <th>firstname</th>\n",
       "      <th>lastname</th>\n",
       "      <th>petname</th>\n",
       "      <th>dob</th>\n",
       "      <th>sex</th>\n",
       "      <th>nationalid</th>\n",
       "      <th>hdssid</th>\n",
       "      <th>hdsshhid</th>\n",
       "    </tr>\n",
       "  </thead>\n",
       "  <tbody>\n",
       "    <tr>\n",
       "      <th>0</th>\n",
       "      <td>1</td>\n",
       "      <td>Zaina</td>\n",
       "      <td>Hanifa</td>\n",
       "      <td>Ula</td>\n",
       "      <td>22-09-1930 00:00</td>\n",
       "      <td>2</td>\n",
       "      <td>NaN</td>\n",
       "      <td>I20001</td>\n",
       "      <td>HH100001</td>\n",
       "    </tr>\n",
       "    <tr>\n",
       "      <th>1</th>\n",
       "      <td>2</td>\n",
       "      <td>Godfrey</td>\n",
       "      <td>Maganda</td>\n",
       "      <td>Mukama</td>\n",
       "      <td>15-07-1934 00:00</td>\n",
       "      <td>1</td>\n",
       "      <td>NaN</td>\n",
       "      <td>I20002</td>\n",
       "      <td>HH100002</td>\n",
       "    </tr>\n",
       "    <tr>\n",
       "      <th>2</th>\n",
       "      <td>3</td>\n",
       "      <td>Kasim</td>\n",
       "      <td>Ngobi</td>\n",
       "      <td>Galabuzi</td>\n",
       "      <td>03-03-1983 00:00</td>\n",
       "      <td>1</td>\n",
       "      <td>NaN</td>\n",
       "      <td>I20003</td>\n",
       "      <td>HH100003</td>\n",
       "    </tr>\n",
       "    <tr>\n",
       "      <th>3</th>\n",
       "      <td>4</td>\n",
       "      <td>Esther</td>\n",
       "      <td>NaN</td>\n",
       "      <td>Inara</td>\n",
       "      <td>30-07-1968 00:00</td>\n",
       "      <td>2</td>\n",
       "      <td>NaN</td>\n",
       "      <td>I20004</td>\n",
       "      <td>HH100004</td>\n",
       "    </tr>\n",
       "    <tr>\n",
       "      <th>4</th>\n",
       "      <td>5</td>\n",
       "      <td>Sumaya</td>\n",
       "      <td>Swabula</td>\n",
       "      <td>NaN</td>\n",
       "      <td>13-12-1930 00:00</td>\n",
       "      <td>2</td>\n",
       "      <td>NaN</td>\n",
       "      <td>I20005</td>\n",
       "      <td>HH100005</td>\n",
       "    </tr>\n",
       "  </tbody>\n",
       "</table>\n",
       "</div>"
      ],
      "text/plain": [
       "   recnr firstname lastname   petname               dob  sex  nationalid  \\\n",
       "0      1     Zaina   Hanifa       Ula  22-09-1930 00:00    2         NaN   \n",
       "1      2   Godfrey  Maganda    Mukama  15-07-1934 00:00    1         NaN   \n",
       "2      3     Kasim    Ngobi  Galabuzi  03-03-1983 00:00    1         NaN   \n",
       "3      4    Esther      NaN     Inara  30-07-1968 00:00    2         NaN   \n",
       "4      5    Sumaya  Swabula       NaN  13-12-1930 00:00    2         NaN   \n",
       "\n",
       "   hdssid  hdsshhid  \n",
       "0  I20001  HH100001  \n",
       "1  I20002  HH100002  \n",
       "2  I20003  HH100003  \n",
       "3  I20004  HH100004  \n",
       "4  I20005  HH100005  "
      ]
     },
     "execution_count": 31,
     "metadata": {},
     "output_type": "execute_result"
    }
   ],
   "source": [
    "data.head()"
   ]
  },
  {
   "cell_type": "code",
   "execution_count": 32,
   "metadata": {},
   "outputs": [
    {
     "data": {
      "text/plain": [
       "(4115, 9)"
      ]
     },
     "execution_count": 32,
     "metadata": {},
     "output_type": "execute_result"
    }
   ],
   "source": [
    "data.shape"
   ]
  },
  {
   "cell_type": "code",
   "execution_count": 33,
   "metadata": {},
   "outputs": [
    {
     "data": {
      "text/plain": [
       "recnr            0\n",
       "firstname        0\n",
       "lastname        84\n",
       "petname       1221\n",
       "dob              0\n",
       "sex              0\n",
       "nationalid    4115\n",
       "hdssid           0\n",
       "hdsshhid         0\n",
       "dtype: int64"
      ]
     },
     "execution_count": 33,
     "metadata": {},
     "output_type": "execute_result"
    }
   ],
   "source": [
    "data.isnull().sum()"
   ]
  },
  {
   "cell_type": "code",
   "execution_count": 34,
   "metadata": {},
   "outputs": [],
   "source": [
    "df = pd.DataFrame(data)"
   ]
  },
  {
   "cell_type": "code",
   "execution_count": 35,
   "metadata": {},
   "outputs": [
    {
     "data": {
      "text/html": [
       "<div>\n",
       "<style scoped>\n",
       "    .dataframe tbody tr th:only-of-type {\n",
       "        vertical-align: middle;\n",
       "    }\n",
       "\n",
       "    .dataframe tbody tr th {\n",
       "        vertical-align: top;\n",
       "    }\n",
       "\n",
       "    .dataframe thead th {\n",
       "        text-align: right;\n",
       "    }\n",
       "</style>\n",
       "<table border=\"1\" class=\"dataframe\">\n",
       "  <thead>\n",
       "    <tr style=\"text-align: right;\">\n",
       "      <th></th>\n",
       "      <th>recnr</th>\n",
       "      <th>firstname</th>\n",
       "      <th>lastname</th>\n",
       "      <th>petname</th>\n",
       "      <th>dob</th>\n",
       "      <th>sex</th>\n",
       "      <th>hdssid</th>\n",
       "      <th>hdsshhid</th>\n",
       "    </tr>\n",
       "  </thead>\n",
       "  <tbody>\n",
       "    <tr>\n",
       "      <th>0</th>\n",
       "      <td>1</td>\n",
       "      <td>Zaina</td>\n",
       "      <td>Hanifa</td>\n",
       "      <td>Ula</td>\n",
       "      <td>22-09-1930 00:00</td>\n",
       "      <td>2</td>\n",
       "      <td>I20001</td>\n",
       "      <td>HH100001</td>\n",
       "    </tr>\n",
       "    <tr>\n",
       "      <th>1</th>\n",
       "      <td>2</td>\n",
       "      <td>Godfrey</td>\n",
       "      <td>Maganda</td>\n",
       "      <td>Mukama</td>\n",
       "      <td>15-07-1934 00:00</td>\n",
       "      <td>1</td>\n",
       "      <td>I20002</td>\n",
       "      <td>HH100002</td>\n",
       "    </tr>\n",
       "    <tr>\n",
       "      <th>2</th>\n",
       "      <td>3</td>\n",
       "      <td>Kasim</td>\n",
       "      <td>Ngobi</td>\n",
       "      <td>Galabuzi</td>\n",
       "      <td>03-03-1983 00:00</td>\n",
       "      <td>1</td>\n",
       "      <td>I20003</td>\n",
       "      <td>HH100003</td>\n",
       "    </tr>\n",
       "    <tr>\n",
       "      <th>3</th>\n",
       "      <td>4</td>\n",
       "      <td>Esther</td>\n",
       "      <td>NaN</td>\n",
       "      <td>Inara</td>\n",
       "      <td>30-07-1968 00:00</td>\n",
       "      <td>2</td>\n",
       "      <td>I20004</td>\n",
       "      <td>HH100004</td>\n",
       "    </tr>\n",
       "    <tr>\n",
       "      <th>4</th>\n",
       "      <td>5</td>\n",
       "      <td>Sumaya</td>\n",
       "      <td>Swabula</td>\n",
       "      <td>NaN</td>\n",
       "      <td>13-12-1930 00:00</td>\n",
       "      <td>2</td>\n",
       "      <td>I20005</td>\n",
       "      <td>HH100005</td>\n",
       "    </tr>\n",
       "  </tbody>\n",
       "</table>\n",
       "</div>"
      ],
      "text/plain": [
       "   recnr firstname lastname   petname               dob  sex  hdssid  hdsshhid\n",
       "0      1     Zaina   Hanifa       Ula  22-09-1930 00:00    2  I20001  HH100001\n",
       "1      2   Godfrey  Maganda    Mukama  15-07-1934 00:00    1  I20002  HH100002\n",
       "2      3     Kasim    Ngobi  Galabuzi  03-03-1983 00:00    1  I20003  HH100003\n",
       "3      4    Esther      NaN     Inara  30-07-1968 00:00    2  I20004  HH100004\n",
       "4      5    Sumaya  Swabula       NaN  13-12-1930 00:00    2  I20005  HH100005"
      ]
     },
     "execution_count": 35,
     "metadata": {},
     "output_type": "execute_result"
    }
   ],
   "source": [
    "df = df.drop(['nationalid'], axis=1)\n",
    "df.head()"
   ]
  },
  {
   "cell_type": "code",
   "execution_count": 37,
   "metadata": {},
   "outputs": [
    {
     "data": {
      "text/plain": [
       "recnr           0\n",
       "firstname       0\n",
       "lastname       84\n",
       "petname      1221\n",
       "dob             0\n",
       "sex             0\n",
       "hdssid          0\n",
       "hdsshhid        0\n",
       "dtype: int64"
      ]
     },
     "execution_count": 37,
     "metadata": {},
     "output_type": "execute_result"
    }
   ],
   "source": [
    "df.isnull().sum()"
   ]
  },
  {
   "cell_type": "code",
   "execution_count": null,
   "metadata": {},
   "outputs": [],
   "source": []
  }
 ],
 "metadata": {
  "kernelspec": {
   "display_name": "base",
   "language": "python",
   "name": "python3"
  },
  "language_info": {
   "codemirror_mode": {
    "name": "ipython",
    "version": 3
   },
   "file_extension": ".py",
   "mimetype": "text/x-python",
   "name": "python",
   "nbconvert_exporter": "python",
   "pygments_lexer": "ipython3",
   "version": "3.11.5"
  }
 },
 "nbformat": 4,
 "nbformat_minor": 2
}
